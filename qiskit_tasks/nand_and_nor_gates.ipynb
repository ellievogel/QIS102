{
 "cells": [
  {
   "cell_type": "markdown",
   "metadata": {},
   "source": [
    "# Quantum circuits demonstrating classical NAND and NOR gates"
   ]
  },
  {
   "cell_type": "code",
   "execution_count": 2,
   "metadata": {},
   "outputs": [],
   "source": [
    "# nand_and_nor_gates.ipynb\n",
    "\n",
    "from IPython.display import display\n",
    "from qis102_utils import as_latex\n",
    "from qiskit import QuantumCircuit, transpile\n",
    "from qiskit.visualization import (\n",
    "    plot_distribution,\n",
    ")\n",
    "from qiskit_aer import AerSimulator"
   ]
  },
  {
   "cell_type": "code",
   "execution_count": 19,
   "metadata": {},
   "outputs": [
    {
     "name": "stdout",
     "output_type": "stream",
     "text": [
      "|a   | b  | result |\n",
      "|----|----|--------|\n",
      "| 0  | 0  |   1    |\n",
      "| 0  | 1  |   1    |\n",
      "| 1  | 0  |   1    |\n",
      "| 1  | 1  |   0    |\n"
     ]
    }
   ],
   "source": [
    "# NAND gate using a CCNOT gates\n",
    "\n",
    "qc = QuantumCircuit(3, 1)\n",
    "\n",
    "\n",
    "def nand(a, b):\n",
    "    qc = QuantumCircuit(3, 1)\n",
    "    # Initialize input qubits to |1> if necessary\n",
    "    if a == 1:\n",
    "        qc.initialize([0, 1], 0)\n",
    "    if b == 1:\n",
    "        qc.initialize([0, 1], 1)\n",
    "\n",
    "    qc.x(2)  # Flip state to on\n",
    "    qc.ccx(0, 1, 2)  # Will switch state off only if both qubits 0 and 1 are onn\n",
    "    qc.measure(2, 0)  # Measure qubit 2, the output qubit\n",
    "\n",
    "    backend = AerSimulator()\n",
    "    qc_transpiled = transpile(qc, backend)\n",
    "    result = backend.run(qc_transpiled).result()\n",
    "\n",
    "    counts = result.get_counts(qc)\n",
    "    return counts\n",
    "\n",
    "\n",
    "# Display truth table for validation of circuit\n",
    "\n",
    "print(\"|a   | b  | result |\")\n",
    "print(\"|----|----|--------|\")\n",
    "\n",
    "\n",
    "for b in [0, 1]:\n",
    "    for a in [0, 1]:\n",
    "        result = list(nand(a, b))[0]\n",
    "        nand_result = result[0]  # Qubit 3 in Feynman's Full Adder\n",
    "        print(f\"| {b}  | {a}  |   {nand_result}    |\")"
   ]
  },
  {
   "cell_type": "code",
   "execution_count": 18,
   "metadata": {},
   "outputs": [
    {
     "name": "stdout",
     "output_type": "stream",
     "text": [
      "|a   | b  | result |\n",
      "|----|----|--------|\n",
      "| 0  | 0  |   1    |\n",
      "| 0  | 1  |   0    |\n",
      "| 1  | 0  |   0    |\n",
      "| 1  | 1  |   0    |\n"
     ]
    }
   ],
   "source": [
    "# NOR gate using CCNOT gate\n",
    "\n",
    "\n",
    "def nor(a, b):\n",
    "    qc2 = QuantumCircuit(3, 1)\n",
    "    # Initialize input qubits to |1> if necessary\n",
    "    if a == 1:\n",
    "        qc2.x(0)\n",
    "    if b == 1:\n",
    "        qc2.x(1)\n",
    "\n",
    "    qc2.x(0)\n",
    "    qc2.x(1)\n",
    "    qc2.ccx(\n",
    "        0, 1, 2\n",
    "    )  # Flip gate to on if both gates started at 0 and were both flipped to on by previous not gates\n",
    "\n",
    "    qc2.measure(2, 0)\n",
    "\n",
    "    backend = AerSimulator()\n",
    "    qc_transpiled = transpile(qc2, backend)\n",
    "    result = backend.run(qc_transpiled).result()\n",
    "\n",
    "    counts = result.get_counts(qc2)\n",
    "    return counts\n",
    "\n",
    "\n",
    "# Display truth table for validation of circuit\n",
    "\n",
    "print(\"|a   | b  | result |\")\n",
    "print(\"|----|----|--------|\")\n",
    "\n",
    "for a in [0, 1]:\n",
    "    for b in [0, 1]:\n",
    "        result = list(nor(a, b))[0]\n",
    "        nor_result = result[0]\n",
    "        print(f\"| {a}  | {b}  |   {nor_result}    |\")"
   ]
  }
 ],
 "metadata": {
  "kernelspec": {
   "display_name": "qis102",
   "language": "python",
   "name": "python3"
  },
  "language_info": {
   "codemirror_mode": {
    "name": "ipython",
    "version": 3
   },
   "file_extension": ".py",
   "mimetype": "text/x-python",
   "name": "python",
   "nbconvert_exporter": "python",
   "pygments_lexer": "ipython3",
   "version": "3.12.3"
  },
  "orig_nbformat": 4
 },
 "nbformat": 4,
 "nbformat_minor": 2
}
