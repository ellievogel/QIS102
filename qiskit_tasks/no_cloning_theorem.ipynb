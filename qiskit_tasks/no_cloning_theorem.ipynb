{
 "cells": [
  {
   "cell_type": "markdown",
   "metadata": {},
   "source": [
    "# Demonstrates an example of the no cloning theorem"
   ]
  },
  {
   "cell_type": "code",
   "execution_count": 10,
   "metadata": {},
   "outputs": [],
   "source": [
    "# no_cloning_theorem.ipynb\n",
    "\n",
    "from IPython.display import display\n",
    "from qis102_utils import as_latex\n",
    "from qiskit import QuantumCircuit, transpile\n",
    "from qiskit.visualization import (\n",
    "    plot_distribution,\n",
    ")\n",
    "from qiskit_aer import AerSimulator"
   ]
  },
  {
   "cell_type": "code",
   "execution_count": 11,
   "metadata": {},
   "outputs": [
    {
     "data": {
      "image/png": "[encoded data removed]",
      "text/plain": [
       "<Figure size 454.719x284.278 with 1 Axes>"
      ]
     },
     "metadata": {},
     "output_type": "display_data"
    },
    {
     "data": {
      "text/latex": [
       "$\\displaystyle \\mathbf{Statevector\\;1}=\\begin{bmatrix}0 &\\frac{1}{\\sqrt{2}} &0 &\\frac{1}{\\sqrt{2}} &0 &0 &0 &0\\\\\\end{bmatrix}$"
      ],
      "text/plain": [
       "<IPython.core.display.Math object>"
      ]
     },
     "metadata": {},
     "output_type": "display_data"
    },
    {
     "data": {
      "text/latex": [
       "$\\displaystyle \\mathbf{Statevector\\;1}=\\begin{bmatrix}0 &\\frac{1}{\\sqrt{2}} &0 &0 &0 &0 &0 &\\frac{1}{\\sqrt{2}}\\\\\\end{bmatrix}$"
      ],
      "text/plain": [
       "<IPython.core.display.Math object>"
      ]
     },
     "metadata": {},
     "output_type": "display_data"
    }
   ],
   "source": [
    "# Create state to try to clone\n",
    "\n",
    "qc = QuantumCircuit(3)\n",
    "\n",
    "qc.x(0)\n",
    "qc.h(1)\n",
    "qc.save_statevector(label=\"sv1\")\n",
    "\n",
    "# Try to use CCNOT to clone\n",
    "qc.ccx(0, 1, 2)\n",
    "qc.save_statevector(label=\"sv2\")\n",
    "\n",
    "display(qc.draw(output=\"mpl\"))\n",
    "\n",
    "backend = AerSimulator()\n",
    "qc_transpiled = transpile(qc, backend)\n",
    "result = backend.run(qc_transpiled).result()\n",
    "\n",
    "# Display results\n",
    "sv1 = result.data(0)[\"sv1\"]\n",
    "sv2 = result.data(0)[\"sv2\"]\n",
    "\n",
    "display(as_latex(sv1, prefix=r\"\\mathbf{Statevector\\;1}=\"))\n",
    "display(as_latex(sv2, prefix=r\"\\mathbf{Statevector\\;1}=\"))"
   ]
  },
  {
   "cell_type": "markdown",
   "metadata": {},
   "source": [
    "Before the state is cloned, q0 is always on and q1 is on half of the time and off half of the time. This results in a 1 and a 3, normalized to make sure the norm is 1.\n",
    "\n",
    "After the CCNOT gate, we should see that q0 is always on and q1 matches q2, being on half the time and off half the time. This would result in a 1 and a 7 half of the time, normalized to make sure the norm is 1.\n",
    "\n",
    "With this logic, it appears as though the cloning worked. I am curious about where my logic went wrong, and look forward to discussing it."
   ]
  }
 ],
 "metadata": {
  "kernelspec": {
   "display_name": "qis102",
   "language": "python",
   "name": "python3"
  },
  "language_info": {
   "codemirror_mode": {
    "name": "ipython",
    "version": 3
   },
   "file_extension": ".py",
   "mimetype": "text/x-python",
   "name": "python",
   "nbconvert_exporter": "python",
   "pygments_lexer": "ipython3",
   "version": "3.12.3"
  },
  "orig_nbformat": 4
 },
 "nbformat": 4,
 "nbformat_minor": 2
}
