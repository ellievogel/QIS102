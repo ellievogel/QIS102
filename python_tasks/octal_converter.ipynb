{
 "cells": [
  {
   "cell_type": "markdown",
   "metadata": {},
   "source": [
    "## Converts the octal number 2323 to base 10 by looping"
   ]
  },
  {
   "cell_type": "code",
   "execution_count": 10,
   "metadata": {},
   "outputs": [
    {
     "name": "stdout",
     "output_type": "stream",
     "text": [
      "Octal Number: 2323 -> Decimal: 1235\n"
     ]
    }
   ],
   "source": [
    "base_eight = \"2323\"\n",
    "\n",
    "\n",
    "def base_eight_to_decimal(base_eight):\n",
    "    # Reverse string 'b' because the LSB must be in first position\n",
    "    base_eight = base_eight[::-1]\n",
    "    sum = 0\n",
    "    for position in range(len(base_eight)):\n",
    "        # Calculate the positional weight of each digit (8 raised to the power of its position)\n",
    "        weight = pow(8, position)\n",
    "        digit = int(base_eight[position])\n",
    "        # Add the current digit and its weight to the decimal sum\n",
    "        sum += digit * weight\n",
    "    return sum\n",
    "\n",
    "\n",
    "decimal = base_eight_to_decimal(base_eight)\n",
    "print(f\"Octal Number: {base_eight} -> Decimal: {decimal}\")"
   ]
  },
  {
   "cell_type": "markdown",
   "metadata": {},
   "source": [
    "## Converts the base 10 number back to octal by looping"
   ]
  },
  {
   "cell_type": "code",
   "execution_count": 11,
   "metadata": {},
   "outputs": [
    {
     "name": "stdout",
     "output_type": "stream",
     "text": [
      "Decimal: 1235 -> Octal Number: 2323\n"
     ]
    }
   ],
   "source": [
    "decimal = 1235\n",
    "\n",
    "\n",
    "def decimal_to_octal(decimal):\n",
    "    octal_str = \"\"\n",
    "    while decimal > 0:\n",
    "        # Calculate the mod 8, add it to the string, and then divide the decimal number by 8\n",
    "        octal_str += str(decimal % 8)\n",
    "        decimal = int(decimal / 8)\n",
    "    # Reverse string 'b' because the LSB must be in first position\n",
    "    octal_str = octal_str[::-1]\n",
    "    return octal_str\n",
    "\n",
    "\n",
    "octal = decimal_to_octal(decimal)\n",
    "print(f\"Decimal: {decimal} -> Octal Number: {octal}\")"
   ]
  },
  {
   "cell_type": "markdown",
   "metadata": {},
   "source": [
    "## Converts the octal number 2323 to base 10 without looping"
   ]
  },
  {
   "cell_type": "code",
   "execution_count": 12,
   "metadata": {},
   "outputs": [
    {
     "name": "stdout",
     "output_type": "stream",
     "text": [
      "Octal Number: 2323 -> Decimal: 1235\n"
     ]
    }
   ],
   "source": [
    "base_eight = \"2323\"\n",
    "\n",
    "# Utilize Python's built-in functions\n",
    "decimal = int(base_eight, 8)\n",
    "\n",
    "print(f\"Octal Number: {base_eight} -> Decimal: {decimal}\")"
   ]
  },
  {
   "cell_type": "markdown",
   "metadata": {},
   "source": [
    "## Converts the base 10 number back to octal without looping"
   ]
  },
  {
   "cell_type": "code",
   "execution_count": 13,
   "metadata": {},
   "outputs": [
    {
     "name": "stdout",
     "output_type": "stream",
     "text": [
      "Decimal: 1235 -> Octal Number: 2323\n"
     ]
    }
   ],
   "source": [
    "import numpy as np\n",
    "\n",
    "decimal = 1235\n",
    "\n",
    "# Utilize numpy's conversion functions\n",
    "octal = np.base_repr(decimal, 8)\n",
    "\n",
    "print(f\"Decimal: {decimal} -> Octal Number: {octal}\")"
   ]
  }
 ],
 "metadata": {
  "kernelspec": {
   "display_name": "qis102",
   "language": "python",
   "name": "python3"
  },
  "language_info": {
   "codemirror_mode": {
    "name": "ipython",
    "version": 3
   },
   "file_extension": ".py",
   "mimetype": "text/x-python",
   "name": "python",
   "nbconvert_exporter": "python",
   "pygments_lexer": "ipython3",
   "version": "3.12.3"
  },
  "orig_nbformat": 4
 },
 "nbformat": 4,
 "nbformat_minor": 2
}
