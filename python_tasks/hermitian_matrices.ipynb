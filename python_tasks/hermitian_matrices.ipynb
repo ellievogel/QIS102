{
 "cells": [
  {
   "cell_type": "code",
   "execution_count": 4,
   "metadata": {},
   "outputs": [],
   "source": [
    "# hermitian_matrices.ipynb"
   ]
  },
  {
   "cell_type": "markdown",
   "metadata": {},
   "source": [
    "## Cell 1: The inverse of a Hermitian matrix is also Hermitian"
   ]
  },
  {
   "cell_type": "code",
   "execution_count": 7,
   "metadata": {},
   "outputs": [
    {
     "name": "stdout",
     "output_type": "stream",
     "text": [
      "Is the matrix Hermitian? True\n",
      "Is the inverse of a Hermitian matrix Hermitian? True\n"
     ]
    }
   ],
   "source": [
    "import numpy as np\n",
    "\n",
    "# A matrix is Hermitian if A(dag) = A\n",
    "\n",
    "# Use example of a Hermitian matrix\n",
    "A = np.array([[5, 4 + 5j, 6 - 16j], [4 - 5j, 13, 7], [6 + 16j, 7, -2.1]])\n",
    "A_dag = A.conj().T\n",
    "\n",
    "# Show that the matrix is Hermitian\n",
    "hermitian = np.isclose(A, A_dag).all()\n",
    "print(f\"Is the matrix Hermitian? {hermitian}\")\n",
    "\n",
    "A_inverse = np.linalg.inv(A)\n",
    "A_inverse_dag = A_inverse.conj().T\n",
    "\n",
    "# Show that the inverse matrix is Hermitian\n",
    "hermitian = np.isclose(A_inverse, A_inverse_dag).all()\n",
    "print(f\"Is the inverse of a Hermitian matrix Hermitian? {hermitian}\")"
   ]
  },
  {
   "cell_type": "markdown",
   "metadata": {},
   "source": [
    "## Cell 2: A Hermitian matrix raised to an integer exponent yeilds another Hermitian matrix"
   ]
  },
  {
   "cell_type": "code",
   "execution_count": 8,
   "metadata": {},
   "outputs": [
    {
     "name": "stdout",
     "output_type": "stream",
     "text": [
      "Is the matrix Hermitian? True\n",
      "Is a Hermitian raised to a power a Hermitian? True\n"
     ]
    }
   ],
   "source": [
    "import numpy as np\n",
    "\n",
    "# Example of a Hermitian matrix\n",
    "A = np.array([[5, 4 + 5j, 6 - 16j], [4 - 5j, 13, 7], [6 + 16j, 7, -2.1]])\n",
    "A_dag = A.conj().T\n",
    "\n",
    "# Show that the matrix is Hermitian\n",
    "hermitian = np.isclose(A, A_dag).all()\n",
    "print(f\"Is the matrix Hermitian? {hermitian}\")\n",
    "\n",
    "# Raise the matrix to a power\n",
    "k = 3\n",
    "A_k = np.linalg.matrix_power(A, k)\n",
    "\n",
    "# Compute (A^k)^dagger\n",
    "A_k_dag = A_k.conj().T\n",
    "\n",
    "# Show that the matrix is Hermitian\n",
    "hermitian = np.isclose(A_k, A_k_dag).all()\n",
    "print(f\"Is a Hermitian raised to a power a Hermitian? {hermitian}\")"
   ]
  }
 ],
 "metadata": {
  "kernelspec": {
   "display_name": "qis102",
   "language": "python",
   "name": "python3"
  },
  "language_info": {
   "codemirror_mode": {
    "name": "ipython",
    "version": 3
   },
   "file_extension": ".py",
   "mimetype": "text/x-python",
   "name": "python",
   "nbconvert_exporter": "python",
   "pygments_lexer": "ipython3",
   "version": "3.12.3"
  },
  "orig_nbformat": 4
 },
 "nbformat": 4,
 "nbformat_minor": 2
}
