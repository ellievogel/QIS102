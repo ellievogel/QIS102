{
 "cells": [
  {
   "cell_type": "code",
   "execution_count": 4,
   "metadata": {},
   "outputs": [],
   "source": [
    "# hermitian_matrices.ipynb"
   ]
  },
  {
   "cell_type": "markdown",
   "metadata": {},
   "source": [
    "## Cell 1: The inverse of a Hermitian matrix is also Hermitian"
   ]
  },
  {
   "cell_type": "code",
   "execution_count": 7,
   "metadata": {},
   "outputs": [
    {
     "name": "stdout",
     "output_type": "stream",
     "text": [
      "Is the matrix Hermitian? True\n",
      "Is the inverse of a Hermitian matrix Hermitian? True\n"
     ]
    }
   ],
   "source": [
    import numpy as np

# Example of a Hermitian matrix
A = np.array([[5, 4 + 5j, 6 - 16j], [4 - 5j, 13, 7], [6 + 16j, 7, -2.1]])
display(as_latex(A, prefix=r"\mathbf{A}="))
A_dag = A.conj().T
display(as_latex(A_dag, prefix=r"\mathbf{A^\dagger}="))

# Show that the matrix is Hermitian
hermitian = np.isclose(A, A_dag).all()
print(f"Is the matrix Hermitian? {hermitian}")

# Raise the matrix to a power
k = 3
A_k = np.linalg.matrix_power(A, k)
display(as_latex(A_k, prefix=r"\mathbf{A^{k}}="))

# Compute (A^k)^dagger
A_k_dag = A_k.conj().T
display(as_latex(A_k_dag, prefix=r"\mathbf{A^{k\dagger}}="))

# Show that the matrix is Hermitian
hermitian = np.isclose(A_k, A_k_dag).all()
print(f"Is a Hermitian raised to a power a Hermitian? {hermitian}")
   ]
  },
  {
   "cell_type": "markdown",
   "metadata": {},
   "source": [
    "## Cell 2: A Hermitian matrix raised to an integer exponent yeilds another Hermitian matrix"
   ]
  },
  {
   "cell_type": "code",
   "execution_count": 8,
   "metadata": {},
   "outputs": [
    {
     "name": "stdout",
     "output_type": "stream",
     "text": [
      "Is the matrix Hermitian? True\n",
      "Is a Hermitian raised to a power a Hermitian? True\n"
     ]
    }
   ],
   "source": [
    "import numpy as np\n",
    "\n",
    "# Example of a Hermitian matrix\n",
    "A = np.array([[5, 4 + 5j, 6 - 16j], [4 - 5j, 13, 7], [6 + 16j, 7, -2.1]])\n",
    "A_dag = A.conj().T\n",
    "\n",
    "# Show that the matrix is Hermitian\n",
    "hermitian = np.isclose(A, A_dag).all()\n",
    "print(f\"Is the matrix Hermitian? {hermitian}\")\n",
    "\n",
    "# Raise the matrix to a power\n",
    "k = 3\n",
    "A_k = np.linalg.matrix_power(A, k)\n",
    "\n",
    "# Compute (A^k)^dagger\n",
    "A_k_dag = A_k.conj().T\n",
    "\n",
    "# Show that the matrix is Hermitian\n",
    "hermitian = np.isclose(A_k, A_k_dag).all()\n",
    "print(f\"Is a Hermitian raised to a power a Hermitian? {hermitian}\")"
   ]
  }
 ],
 "metadata": {
  "kernelspec": {
   "display_name": "qis102",
   "language": "python",
   "name": "python3"
  },
  "language_info": {
   "codemirror_mode": {
    "name": "ipython",
    "version": 3
   },
   "file_extension": ".py",
   "mimetype": "text/x-python",
   "name": "python",
   "nbconvert_exporter": "python",
   "pygments_lexer": "ipython3",
   "version": "3.12.3"
  },
  "orig_nbformat": 4
 },
 "nbformat": 4,
 "nbformat_minor": 2
}
