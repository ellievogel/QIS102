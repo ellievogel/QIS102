{
 "cells": [
  {
   "cell_type": "code",
   "execution_count": 4,
   "metadata": {},
   "outputs": [],
   "source": [
    "# hermitian_matrices.ipynb"
   ]
  },
  {
   "cell_type": "markdown",
   "metadata": {},
   "source": [
    "## Cell 1: The inverse of a Hermitian matrix is also Hermitian"
   ]
  },
  {
   "cell_type": "code",
   "execution_count": 3,
   "metadata": {},
   "outputs": [
    {
     "data": {
      "text/latex": [
       "$\\displaystyle \\mathbf{A}=\\begin{bmatrix}5 &4 + 5i &6-16i\\\\[1em]4-5i &13 &7\\\\[1em]6 + 16i &7 &-2.1\\\\\\end{bmatrix}$"
      ],
      "text/plain": [
       "<IPython.core.display.Math object>"
      ]
     },
     "metadata": {},
     "output_type": "display_data"
    },
    {
     "data": {
      "text/latex": [
       "$\\displaystyle \\mathbf{A^\\dagger}=\\begin{bmatrix}5 &4 + 5i &6-16i\\\\[1em]4-5i &13 &7\\\\[1em]6 + 16i &7 &-2.1\\\\\\end{bmatrix}$"
      ],
      "text/plain": [
       "<IPython.core.display.Math object>"
      ]
     },
     "metadata": {},
     "output_type": "display_data"
    },
    {
     "name": "stdout",
     "output_type": "stream",
     "text": [
      "Is the matrix Hermitian? True\n"
     ]
    },
    {
     "data": {
      "text/latex": [
       "$\\displaystyle \\mathbf{A^{-1}}=\\begin{bmatrix}0.01565 &-0.01034 + 0.02082i &0.01026-0.04984i\\\\[1em]-0.01034-0.02082i &0.06205 &0.01867 + 0.01928i\\\\[1em]0.01026 + 0.04984i &0.01867-0.01928i &-0.00492\\\\\\end{bmatrix}$"
      ],
      "text/plain": [
       "<IPython.core.display.Math object>"
      ]
     },
     "metadata": {},
     "output_type": "display_data"
    },
    {
     "data": {
      "text/latex": [
       "$\\displaystyle \\mathbf{A^{-1\\dagger}}=\\begin{bmatrix}5 &4 + 5i &6-16i\\\\[1em]4-5i &13 &7\\\\[1em]6 + 16i &7 &-2.1\\\\\\end{bmatrix}$"
      ],
      "text/plain": [
       "<IPython.core.display.Math object>"
      ]
     },
     "metadata": {},
     "output_type": "display_data"
    },
    {
     "name": "stdout",
     "output_type": "stream",
     "text": [
      "Is the inverse of a Hermitian matrix Hermitian? True\n"
     ]
    }
   ],
   "source": [
    "import numpy as np\n",
    "from qis102_utils import as_latex\n",
    "\n",
    "# A matrix is Hermitian if A(dag) = A\n",
    "\n",
    "# Use example of a Hermitian matrix\n",
    "A = np.array([[5, 4 + 5j, 6 - 16j], [4 - 5j, 13, 7], [6 + 16j, 7, -2.1]])\n",
    "display(as_latex(A, prefix=r\"\\mathbf{A}=\"))\n",
    "\n",
    "A_dag = A.conj().T\n",
    "display(as_latex(A_dag, prefix=r\"\\mathbf{A^\\dagger}=\"))\n",
    "\n",
    "# Show that the matrix is Hermitian\n",
    "hermitian = np.isclose(A, A_dag).all()\n",
    "print(f\"Is the matrix Hermitian? {hermitian}\")\n",
    "\n",
    "A_inverse = np.linalg.inv(A)\n",
    "display(as_latex(A_inverse, prefix=r\"\\mathbf{A^{-1}}=\"))\n",
    "A_inverse_dag = A_inverse.conj().T\n",
    "display(as_latex(A, prefix=r\"\\mathbf{A^{-1\\dagger}}=\"))\n",
    "\n",
    "# Show that the inverse matrix is Hermitian\n",
    "hermitian = np.isclose(A_inverse, A_inverse_dag).all()\n",
    "print(f\"Is the inverse of a Hermitian matrix Hermitian? {hermitian}\")"
   ]
  },
  {
   "cell_type": "markdown",
   "metadata": {},
   "source": [
    "## Cell 2: A Hermitian matrix raised to an integer exponent yeilds another Hermitian matrix"
   ]
  },
  {
   "cell_type": "code",
   "execution_count": 4,
   "metadata": {},
   "outputs": [
    {
     "data": {
      "text/latex": [
       "$\\displaystyle \\mathbf{A}=\\begin{bmatrix}5 &4 + 5i &6-16i\\\\[1em]4-5i &13 &7\\\\[1em]6 + 16i &7 &-2.1\\\\\\end{bmatrix}$"
      ],
      "text/plain": [
       "<IPython.core.display.Math object>"
      ]
     },
     "metadata": {},
     "output_type": "display_data"
    },
    {
     "data": {
      "text/latex": [
       "$\\displaystyle \\mathbf{A^\\dagger}=\\begin{bmatrix}5 &4 + 5i &6-16i\\\\[1em]4-5i &13 &7\\\\[1em]6 + 16i &7 &-2.1\\\\\\end{bmatrix}$"
      ],
      "text/plain": [
       "<IPython.core.display.Math object>"
      ]
     },
     "metadata": {},
     "output_type": "display_data"
    },
    {
     "name": "stdout",
     "output_type": "stream",
     "text": [
      "Is the matrix Hermitian? True\n"
     ]
    },
    {
     "data": {
      "text/latex": [
       "$\\displaystyle \\mathbf{A^{k}}=\\begin{bmatrix}2590.8 &3231.8 + 1424.2i &2850.66-5858.06i\\\\[1em]3231.8-1424.2i &3855.1 &2806.37-1494.6i\\\\[1em]2850.66 + 5858.06i &2806.37 + 1494.6i &-128.461\\\\\\end{bmatrix}$"
      ],
      "text/plain": [
       "<IPython.core.display.Math object>"
      ]
     },
     "metadata": {},
     "output_type": "display_data"
    },
    {
     "data": {
      "text/latex": [
       "$\\displaystyle \\mathbf{A^{k\\dagger}}=\\begin{bmatrix}2590.8 &3231.8 + 1424.2i &2850.66-5858.06i\\\\[1em]3231.8-1424.2i &3855.1 &2806.37-1494.6i\\\\[1em]2850.66 + 5858.06i &2806.37 + 1494.6i &-128.461\\\\\\end{bmatrix}$"
      ],
      "text/plain": [
       "<IPython.core.display.Math object>"
      ]
     },
     "metadata": {},
     "output_type": "display_data"
    },
    {
     "name": "stdout",
     "output_type": "stream",
     "text": [
      "Is a Hermitian raised to a power a Hermitian? True\n"
     ]
    }
   ],
   "source": [
    "import numpy as np\n",
    "\n",
    "# Example of a Hermitian matrix\n",
    "A = np.array([[5, 4 + 5j, 6 - 16j], [4 - 5j, 13, 7], [6 + 16j, 7, -2.1]])\n",
    "display(as_latex(A, prefix=r\"\\mathbf{A}=\"))\n",
    "A_dag = A.conj().T\n",
    "display(as_latex(A_dag, prefix=r\"\\mathbf{A^\\dagger}=\"))\n",
    "\n",
    "# Show that the matrix is Hermitian\n",
    "hermitian = np.isclose(A, A_dag).all()\n",
    "print(f\"Is the matrix Hermitian? {hermitian}\")\n",
    "\n",
    "# Raise the matrix to a power\n",
    "k = 3\n",
    "A_k = np.linalg.matrix_power(A, k)\n",
    "display(as_latex(A_k, prefix=r\"\\mathbf{A^{k}}=\"))\n",
    "\n",
    "# Compute (A^k)^dagger\n",
    "A_k_dag = A_k.conj().T\n",
    "display(as_latex(A_k_dag, prefix=r\"\\mathbf{A^{k\\dagger}}=\"))\n",
    "\n",
    "# Show that the matrix is Hermitian\n",
    "hermitian = np.isclose(A_k, A_k_dag).all()\n",
    "print(f\"Is a Hermitian raised to a power a Hermitian? {hermitian}\")"
   ]
  }
 ],
 "metadata": {
  "kernelspec": {
   "display_name": "qis102",
   "language": "python",
   "name": "python3"
  },
  "language_info": {
   "codemirror_mode": {
    "name": "ipython",
    "version": 3
   },
   "file_extension": ".py",
   "mimetype": "text/x-python",
   "name": "python",
   "nbconvert_exporter": "python",
   "pygments_lexer": "ipython3",
   "version": "3.12.3"
  },
  "orig_nbformat": 4
 },
 "nbformat": 4,
 "nbformat_minor": 2
}
