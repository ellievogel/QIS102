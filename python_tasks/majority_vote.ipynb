{
 "cells": [
  {
   "cell_type": "markdown",
   "metadata": {},
   "source": [
    "## Simulate the circuit and generate the truth table of the majority vote circuit"
   ]
  },
  {
   "cell_type": "code",
   "execution_count": 2,
   "metadata": {},
   "outputs": [
    {
     "data": {
      "text/latex": [
       "$\\displaystyle \\mathbf{NOT}=\\begin{bmatrix}0 &1\\\\[1em]1 &0\\\\\\end{bmatrix}$"
      ],
      "text/plain": [
       "<IPython.core.display.Math object>"
      ]
     },
     "metadata": {},
     "output_type": "display_data"
    },
    {
     "data": {
      "text/latex": [
       "$\\displaystyle \\mathbf{AND}=\\begin{bmatrix}1 &1 &1 &0\\\\[1em]0 &0 &0 &1\\\\\\end{bmatrix}$"
      ],
      "text/plain": [
       "<IPython.core.display.Math object>"
      ]
     },
     "metadata": {},
     "output_type": "display_data"
    },
    {
     "data": {
      "text/latex": [
       "$\\displaystyle \\mathbf{OR}=\\begin{bmatrix}1 &0 &0 &0\\\\[1em]0 &1 &1 &1\\\\\\end{bmatrix}$"
      ],
      "text/plain": [
       "<IPython.core.display.Math object>"
      ]
     },
     "metadata": {},
     "output_type": "display_data"
    }
   ],
   "source": [
    "import numpy as np\n",
    "from qis102_utils import as_latex\n",
    "\n",
    "# Initialize false and true\n",
    "f = np.array([[1], [0]])\n",
    "t = np.array([[0], [1]])\n",
    "\n",
    "# Not gate\n",
    "g_not = np.array([[0, 1], [1, 0]])\n",
    "display(as_latex(g_not, prefix=r\"\\mathbf{NOT}=\"))\n",
    "\n",
    "# And gate\n",
    "g_and = np.array([[1, 1, 1, 0], [0, 0, 0, 1]])\n",
    "display(as_latex(g_and, prefix=r\"\\mathbf{AND}=\"))\n",
    "\n",
    "# Or gate\n",
    "g_or = np.array([[1, 0, 0, 0], [0, 1, 1, 1]])\n",
    "display(as_latex(g_or, prefix=r\"\\mathbf{OR}=\"))"
   ]
  },
  {
   "cell_type": "code",
   "execution_count": 4,
   "metadata": {},
   "outputs": [
    {
     "name": "stdout",
     "output_type": "stream",
     "text": [
      "a: [1 0]  b: [1 0]  c: [1 0]  v: [1 0]\n",
      "a: [1 0]  b: [1 0]  c: [0 1]  v: [1 0]\n",
      "a: [1 0]  b: [0 1]  c: [1 0]  v: [1 0]\n",
      "a: [1 0]  b: [0 1]  c: [0 1]  v: [0 1]\n",
      "a: [0 1]  b: [1 0]  c: [1 0]  v: [1 0]\n",
      "a: [0 1]  b: [1 0]  c: [0 1]  v: [0 1]\n",
      "a: [0 1]  b: [0 1]  c: [1 0]  v: [0 1]\n",
      "a: [0 1]  b: [0 1]  c: [0 1]  v: [0 1]\n"
     ]
    }
   ],
   "source": [
    "def circuit(a, b, c):\n",
    "    # Majority vote logic: AB + CA + CB\n",
    "    # AB\n",
    "    g1 = np.dot(g_and, np.kron(a, b))\n",
    "    # CA\n",
    "    g2 = np.dot(g_and, np.kron(c, a))\n",
    "    # CB\n",
    "    g3 = np.dot(g_and, np.kron(c, b))\n",
    "    # AB + CA\n",
    "    g4 = np.dot(g_or, np.kron(g1, g2))\n",
    "    # AB + CA + CB\n",
    "    g5 = np.dot(g_or, np.kron(g3, g4))\n",
    "    return g5\n",
    "\n",
    "\n",
    "# Display truth table for the circuit\n",
    "for a in [f, t]:\n",
    "    for b in [f, t]:\n",
    "        for c in [f, t]:\n",
    "            print(f\"a: [{a[0][0]} {a[1][0]}]\", end=\"  \")\n",
    "            print(f\"b: [{b[0][0]} {b[1][0]}]\", end=\"  \")\n",
    "            print(f\"c: [{c[0][0]} {c[1][0]}]\", end=\"  \")\n",
    "            v = circuit(a, b, c)\n",
    "            print(f\"v: [{v[0][0]} {v[1][0]}]\")"
   ]
  }
 ],
 "metadata": {
  "kernelspec": {
   "display_name": "qis102",
   "language": "python",
   "name": "python3"
  },
  "language_info": {
   "codemirror_mode": {
    "name": "ipython",
    "version": 3
   },
   "file_extension": ".py",
   "mimetype": "text/x-python",
   "name": "python",
   "nbconvert_exporter": "python",
   "pygments_lexer": "ipython3",
   "version": "3.12.3"
  },
  "orig_nbformat": 4
 },
 "nbformat": 4,
 "nbformat_minor": 2
}
